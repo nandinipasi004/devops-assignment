{
  "nbformat": 4,
  "nbformat_minor": 0,
  "metadata": {
    "colab": {
      "provenance": []
    },
    "kernelspec": {
      "name": "python3",
      "display_name": "Python 3"
    },
    "language_info": {
      "name": "python"
    }
  },
  "cells": [
    {
      "cell_type": "code",
      "execution_count": null,
      "metadata": {
        "id": "EwblbzxteL3O",
        "collapsed": true
      },
      "outputs": [],
      "source": [
        "Q 1. What is python?\n",
        "Ans:  1)Python is high level programming language known for its simplicity and readability.\n",
        "      2)It is widely used in various fields such as\n",
        "     web development,data science,artificial intelligence and more.\n",
        "     3)It is beginner friendly due to its clear and easy syntax.\n",
        "     4)It allows to write code in different ways: following steps,organizing around objects or focusing on functions.\n",
        "     5)It has an extensive standard library with built-in modules and functions for various tasks.\n",
        "     6)It uses an indentation based syntax to enforce code readability and structure.\n",
        "     7)It is versatile as it offers both basic and advanced features for programmers.\n",
        "     8)It is an interpreted language that means code is executed line by line at runtime.\n",
        "     9)It is platform independent\n",
        "     10)It is a dynamically type language"
      ]
    },
    {
      "cell_type": "code",
      "source": [
        "Q 2. What are the built-in data types in Python?\n",
        "Ans: The built-in data types in python are\n",
        "     1)int: int data types contains integer value\n",
        "      e.g: 42, -10, 0\n",
        "     2)float: float contains decimal point values\n",
        "      e.g: 3.14, 2.71828 -3.567\n",
        "     3)complex: complex number contains values\n",
        "      e.g: 3 + 4j, 1 - 2j\n",
        "     4)string: Strind is a sequence of characters enclosed in single ' or double \" quotes.\n",
        "      e.g., 'hello', \"world\"\n",
        "     5)list: list are declared by [] brackets. list are Ordered collection of items, mutable (modifiable),\n",
        "      e.g., [1, 2, 3], ['a', 'b', 'c']\n",
        "     6)boolean: Boolean value represent True or False value\n",
        "     7)set: Unordered collection of unique items\n",
        "      e.g., {1, 2, 3}, {} (empty set).\n",
        "     8)dictionary: dictionary declare by {} brackets. dictionary is a collection of key-value pairs\n",
        "      e.g., {'a': 1, 'b': 2}, {} (empty dictionary)\n",
        "     9)nonetype: Represents a null or absence of value, denoted by None.\n",
        "     10)frozen set: Immutable version of set.\n",
        "     11)tuple:  tuple declare by () paranthesis. tuple is Ordered collection of items, immutable (cannot be changed)\n",
        "      e.g., (1, 2, 3), ('a', 'b', 'c')\n"
      ],
      "metadata": {
        "id": "fJx0uYwli5BL"
      },
      "execution_count": null,
      "outputs": []
    },
    {
      "cell_type": "code",
      "source": [
        "# Q 3.  You are given a list of numerical values representing the daily sales of a store for a week. Write a Python\n",
        "# program to perform the following tasks using various Python operators\n",
        "#  Use the following data for your program\n",
        "# daily_sales = [150,200,180,220,170,190,210]\n",
        "\n",
        "#  Calculate the total sales for the week\n",
        "daily_sales = [150, 200, 180, 220, 170, 190, 210]\n",
        "total_sales = sum(daily_sales)\n",
        "print(\"Total sales for the week:\", total_sales)\n",
        "\n",
        "\n",
        "#   Calculate the average sales per day\n",
        "avg_sales = total_sales/len(daily_sales)\n",
        "print(\"Average sales per day:\",avg_sales)\n",
        "\n",
        "# Identify the day with the highest sales and print the sales amount\n",
        "max_sales = max(daily_sales)\n",
        "day = daily_sales.index(max_sales)+1\n",
        "print(\"The day with highest sales is day\", day,\"with sales amount of\",max_sales)\n",
        "\n",
        "# Determine the days where the sales were above the average sales.\n",
        "\n",
        "above_average_days = []\n",
        "for i in range(len(daily_sales)):\n",
        "        if daily_sales[i] > average_sales:\n",
        "            above_average_days.append(i + 1)\n",
        "print(\"Daily sales:\", daily_sales)\n",
        "print(\"Average sales:\", average_sales)\n",
        "print(\"Days where sales were above average:\")\n",
        "for day_index in above_average_days:\n",
        "        print(f\"Day {day_index}: Sales = {daily_sales[day_index - 1]}\")\n",
        "\n",
        "# Increase the sales amount of each day by 10% and print the updated sales list.\n",
        "\n",
        "updated_sales = [sales * 1.1 for sales in daily_sales]\n",
        "new_updated_sales = [int(x) for x in updated_sales]\n",
        "print(f\"Updated sales list: {new_updated_sales}\")"
      ],
      "metadata": {
        "colab": {
          "base_uri": "https://localhost:8080/"
        },
        "id": "Oen0W5ebAJ95",
        "outputId": "d27ce365-f6a8-44ea-e5b1-8e16d9adc890"
      },
      "execution_count": 42,
      "outputs": [
        {
          "output_type": "stream",
          "name": "stdout",
          "text": [
            "Total sales for the week: 1320\n",
            "Average sales per day: 188.57142857142858\n",
            "The day with highest sales is day 4 with sales amount of 220\n",
            "Daily sales: [150, 200, 180, 220, 170, 190, 210]\n",
            "Average sales: 188.57142857142858\n",
            "Days where sales were above average:\n",
            "Day 2: Sales = 200\n",
            "Day 4: Sales = 220\n",
            "Day 6: Sales = 190\n",
            "Day 7: Sales = 210\n",
            "Updated sales list: [165, 220, 198, 242, 187, 209, 231]\n"
          ]
        }
      ]
    },
    {
      "cell_type": "code",
      "source": [
        "# Q 4. You are given a list of integers representing the scores of students in a class. Write a Python program to\n",
        "# perform the following tasks using loops\n",
        "# Use the following data for your program\n",
        "# scores = [75, 88, 92, 67, 85, 94, 73, 81, 78, 90]\n",
        "\n",
        "# Calculate the total score of the class\n",
        "scores = [75, 88, 92, 67, 85, 94, 73, 81, 78, 90]\n",
        "total_scores = sum(scores)\n",
        "print(\"the total score of the class:\", total_scores)\n",
        "\n",
        "# Calculate the average score of the class\n",
        "avg_score = total_scores/len(scores)\n",
        "print(\"the average score of the class:\", avg_score)\n",
        "\n",
        "# Find and print the highest score in the class\n",
        "highest_score = max(scores)\n",
        "print(\"the highest score in the class:\",highest_score)\n",
        "\n",
        "# Count how many students scored above the average score\n",
        "avg_score = total_scores/len(scores)\n",
        "above_avg_score =sum(score > avg_score for score in scores)\n",
        "print(\"the number of students scored above the average score is:\", above_avg_score)\n",
        "\n",
        "# Print a list of scores in ascending order\n",
        "sort_scores = sorted(scores)\n",
        "print(\"the list of scores in ascending order:\",sort_scores)\n"
      ],
      "metadata": {
        "colab": {
          "base_uri": "https://localhost:8080/"
        },
        "id": "NczbKaIoHlwR",
        "outputId": "2732ae8f-b5cb-4a5d-a0d9-a5fe18a41f0a"
      },
      "execution_count": 59,
      "outputs": [
        {
          "output_type": "stream",
          "name": "stdout",
          "text": [
            "the total score of the class: 823\n",
            "the average score of the class: 82.3\n",
            "the highest score in the class: 94\n",
            "the number of students scored above the average score is: 5\n",
            "the list of scores in ascending order: [67, 73, 75, 78, 81, 85, 88, 90, 92, 94]\n"
          ]
        }
      ]
    },
    {
      "cell_type": "code",
      "source": [
        "# Q 5.  Write a Python program to find the sum of all items in the dictionary.\n",
        "# Examples\n",
        "# Input:{'a':100,'b':200, 'c':300}\n",
        "# output:600\n",
        "\n",
        "dict = {'a' : 100, 'b':200, 'c':300}\n",
        "sum_dict = sum(dict.values())\n",
        "print(sum_dict)"
      ],
      "metadata": {
        "colab": {
          "base_uri": "https://localhost:8080/"
        },
        "id": "U51hqpEeb7mi",
        "outputId": "4b48ec94-c3ce-4904-c5d8-b24f59e6da71"
      },
      "execution_count": 61,
      "outputs": [
        {
          "output_type": "stream",
          "name": "stdout",
          "text": [
            "600\n"
          ]
        }
      ]
    },
    {
      "cell_type": "code",
      "source": [
        "# Q 6.  You are developing a simple budget tracking application. Write a Python program to perform the following tasks using variables\n",
        "#  Initialize variables to store your monthly income and expenses for rent, groceries, utilities, transportation, and entertainment\n",
        "# Calculate and print the total monthly expenses.\n",
        "# Calculate and print the remaining balance after all expenses.\n",
        "#  If the remaining balance is positive, save 50% of it to a savings account. If it's negative, print a warning message.\n",
        "# Print the final savings amount.\n",
        "# Use the following data for your program:\n",
        "\n",
        "# initialize the variable\n",
        "monthly_income = 5000\n",
        "rent = 1500\n",
        "groceries = 600\n",
        "utilities = 200\n",
        "transportation = 300\n",
        "entertainment = 400\n",
        "\n",
        "# calculate total monthly expenses\n",
        "total_expenses = rent + groceries + utilities + transportation + entertainment\n",
        "\n",
        "# calculate remaining balance after all expenses\n",
        "remaining_balance = monthly_income - total_expenses\n",
        "\n",
        "# If the remaining balance is positive, save 50% of it to a savings account. If it's negative, print a warning message.\n",
        "# Print the final savings amount.\n",
        "if remaining_balance > 0:\n",
        "    savings_amount = remaining_balance * 0.5  # Save 50% of remaining balance\n",
        "    print(f\"Total monthly expenses: ${total_expenses}\")\n",
        "    print(f\"Remaining balance after expenses: ${remaining_balance}\")\n",
        "    print(f\"Saving 50% of remaining balance: ${savings_amount}\")\n",
        "else:\n",
        "    print(f\"Total monthly expenses: ${total_expenses}\")\n",
        "    print(f\"Remaining balance after expenses: ${remaining_balance}\")\n",
        "    print(\"Warning: Your expenses exceed your income. Consider reviewing your budget.\")"
      ],
      "metadata": {
        "colab": {
          "base_uri": "https://localhost:8080/"
        },
        "id": "espu5iIudhcE",
        "outputId": "d11ad542-083d-4bd2-da92-772426bec8df"
      },
      "execution_count": 83,
      "outputs": [
        {
          "output_type": "stream",
          "name": "stdout",
          "text": [
            "Total monthly expenses: $3000\n",
            "Remaining balance after expenses: $2000\n",
            "Saving 50% of remaining balance: $1000.0\n"
          ]
        }
      ]
    },
    {
      "cell_type": "code",
      "source": [
        "# Q 7. What is a function in Python, and why is it used?\n",
        "Ans: function in python: a function is a block of reusable code that performs a specific task.\n",
        "                         functions are used to organize code into manageable pieces ,making it easier to read,understand,\n",
        "                         and maintain.\n",
        "    1)modularity: function allow you to break down a program into smaller parts.each function can perform a specific task,\n",
        "    and you can call the function whenever needed.\n",
        "    2)code reusability: once you define a function,you can use it multiple times in your program without rewriting the same code.\n",
        "    this promotes code reusability.\n",
        "    3)abstraction: functions provide a level of abstraction. when you call a function you don't need to know the internal details of how the function works,\n",
        "    you only need to know what it does.\n",
        "    4)parameter passing: functions can take parameters(input) that can be used inside the function to perform operations.\n",
        "    this allows function to work with different data each time they are called.\n",
        "    5)return statements: functions can return a value as a result of thier computation.this returned value can be used in the rest of the program.\n",
        "    6)organization: functions help in organizing code logically. by grouping related code into functions,you can improve the structure of program.\n",
        "    7)scope: functions have thier own scope, meaning variables defined inside a function are local to that function unless specified otherwise.\n",
        "    this helps in avoiding naming conflicts and maintaining data integrity.\n",
        "    8)function arguments: functions can take both positional and keyword arguments.positional arguments are passed based on thier position,while keyword arguments\n",
        "    are passed with a specific keywords,providing flexibility in function calls.\n",
        "    9)lambda function: python also supports lambda functions,which are small, anonymous functions defined using the 'lambda' keyword.\n",
        "    lambda functions are used for simple operations and are often used in conjunctions with functions like 'map()','reduce()'\n",
        "    10)built-in functions: python comes with a wide range of built-in functions. these functions can be directly used in your code without the need to define them yourself,\n",
        "    which makes programming in python more efficient."
      ],
      "metadata": {
        "id": "YxGSKCB7m1m5"
      },
      "execution_count": null,
      "outputs": []
    },
    {
      "cell_type": "code",
      "source": [
        "# Q 8. Write a function is_even that takes an integer as input and returns True if the number is even, otherwise return False\n",
        "\n",
        "def even_odd(num):\n",
        "  if num%2==0:\n",
        "    return True\n",
        "  else:\n",
        "    return False\n",
        "\n",
        "\n",
        "num = int(input(\"please enter the number to check its even or odd\"))\n",
        "print(\"The number is \",even_odd(num))\n"
      ],
      "metadata": {
        "colab": {
          "base_uri": "https://localhost:8080/"
        },
        "id": "BfdxFkwh1fsi",
        "outputId": "74c90ea2-6ebd-4e23-df9b-210fa6bc55a5"
      },
      "execution_count": 105,
      "outputs": [
        {
          "output_type": "stream",
          "name": "stdout",
          "text": [
            "please enter the number to check its even or odd62\n",
            "The number is  True\n"
          ]
        }
      ]
    }
  ]
}
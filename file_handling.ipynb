{
  "nbformat": 4,
  "nbformat_minor": 0,
  "metadata": {
    "colab": {
      "provenance": []
    },
    "kernelspec": {
      "name": "python3",
      "display_name": "Python 3"
    },
    "language_info": {
      "name": "python"
    }
  },
  "cells": [
    {
      "cell_type": "code",
      "execution_count": 13,
      "metadata": {
        "id": "6TTf_ctlKQqV"
      },
      "outputs": [],
      "source": [
        "# Q1) Create new text file and write a few lines of text into it\n",
        "\n",
        "file_name = 'sample.txt'\n",
        "\n",
        "content = \"\"\"Hello there!\n",
        "This is a sample text file created using Python.\n",
        "Have a great day!\"\"\"\n",
        "\n",
        "with open(file_name, 'w') as file:\n",
        "    file.write(content)"
      ]
    },
    {
      "cell_type": "code",
      "source": [
        "# Q2) Open and Read the contents of the file you just created\n",
        "with open(file_name, 'r') as file:\n",
        "    file_contents = file.read()\n",
        "\n",
        "file_contents\n"
      ],
      "metadata": {
        "colab": {
          "base_uri": "https://localhost:8080/",
          "height": 35
        },
        "id": "oGE0eVKPKX_4",
        "outputId": "e7caaecc-9d95-4331-b261-2df6b26838ba"
      },
      "execution_count": 14,
      "outputs": [
        {
          "output_type": "execute_result",
          "data": {
            "text/plain": [
              "'Hello there!\\nThis is a sample text file created using Python.\\nHave a great day!'"
            ],
            "application/vnd.google.colaboratory.intrinsic+json": {
              "type": "string"
            }
          },
          "metadata": {},
          "execution_count": 14
        }
      ]
    },
    {
      "cell_type": "code",
      "source": [
        "# Q3) Add additional text to the existing file without deleting the current content\n",
        "\n",
        "new_content = \"\\nThis line has been added later as an update.\"\n",
        "\n",
        "with open(file_name, 'a') as file:\n",
        "    file.write(new_content)\n"
      ],
      "metadata": {
        "id": "VxjZy7KjKcta"
      },
      "execution_count": 15,
      "outputs": []
    },
    {
      "cell_type": "code",
      "source": [
        "# Q4) Read and print each line from the file one by one\n",
        "\n",
        "with open(file_name, 'r') as file:\n",
        "    for line in file:\n",
        "        print(line.strip())\n"
      ],
      "metadata": {
        "colab": {
          "base_uri": "https://localhost:8080/"
        },
        "id": "vPT-FeV2Kjfz",
        "outputId": "57dcf0f8-2815-44fb-de23-c50b4c96d874"
      },
      "execution_count": 16,
      "outputs": [
        {
          "output_type": "stream",
          "name": "stdout",
          "text": [
            "Hello there!\n",
            "This is a sample text file created using Python.\n",
            "Have a great day!\n",
            "This line has been added later as an update.\n"
          ]
        }
      ]
    },
    {
      "cell_type": "code",
      "source": [
        "# Q5) Write the contents of a list to a file with each item on a new line\n",
        "\n",
        "sample_list = [\"Apple\", \"Banana\", \"Cherry\", \"Date\", \"Elderberry\"]\n",
        "\n",
        "list_file = 'list_contents.txt'\n",
        "\n",
        "with open(list_file, 'w') as file:\n",
        "    for item in sample_list:\n",
        "        file.write(item + '\\n')\n"
      ],
      "metadata": {
        "id": "iEfJZiyvKl2B"
      },
      "execution_count": 17,
      "outputs": []
    },
    {
      "cell_type": "code",
      "source": [
        "# Q6)\n",
        "\n",
        "with open('list_contents.txt', 'r') as file:\n",
        "    lines = file.readlines()\n",
        "\n",
        "lines = [line.strip() for line in lines]\n",
        "\n",
        "print(lines)\n",
        "\n"
      ],
      "metadata": {
        "colab": {
          "base_uri": "https://localhost:8080/"
        },
        "id": "uVUZ5GXbKtPd",
        "outputId": "0407420e-e2cc-4070-a86a-2597b28d4ac5"
      },
      "execution_count": 18,
      "outputs": [
        {
          "output_type": "stream",
          "name": "stdout",
          "text": [
            "['Apple', 'Banana', 'Cherry', 'Date', 'Elderberry']\n"
          ]
        }
      ]
    },
    {
      "cell_type": "code",
      "source": [
        "# Q7) Count the total number of words in the file\n",
        "\n",
        "with open('sample.txt', 'r') as file:\n",
        "    content = file.read()\n",
        "\n",
        "words = content.split()\n",
        "\n",
        "word_count = len(words)\n",
        "\n",
        "print(f\"Total number of words: {word_count}\")"
      ],
      "metadata": {
        "colab": {
          "base_uri": "https://localhost:8080/"
        },
        "id": "KNkqOw-qKvNo",
        "outputId": "b4824bf9-3af1-44d7-a8bb-6eb004050eed"
      },
      "execution_count": 19,
      "outputs": [
        {
          "output_type": "stream",
          "name": "stdout",
          "text": [
            "Total number of words: 24\n"
          ]
        }
      ]
    },
    {
      "cell_type": "code",
      "source": [
        "# Q8) Copy the contents of one file to another file\n",
        "\n",
        "source_file = 'sample.txt'\n",
        "destination_file = 'destination.txt'\n",
        "\n",
        "with open(source_file, 'r') as src:\n",
        "    content = src.read()\n",
        "\n",
        "with open(destination_file, 'w') as dest:\n",
        "    dest.write(content)"
      ],
      "metadata": {
        "id": "SQiFh9QtK0_C"
      },
      "execution_count": 20,
      "outputs": []
    },
    {
      "cell_type": "code",
      "source": [
        "# Q9) Check if a file exists before attempting to read it\n",
        "\n",
        "import os\n",
        "\n",
        "file_path = 'sample.txt'\n",
        "\n",
        "if os.path.exists(file_path):\n",
        "    print(f\"The file {file_path} exists.\")\n",
        "    with open(file_path, 'r') as file:\n",
        "        content = file.read()\n",
        "    print(\"File content:\")\n",
        "    print(content)\n",
        "else:\n",
        "    print(f\"The file {file_path} does not exist.\")\n",
        "\n"
      ],
      "metadata": {
        "colab": {
          "base_uri": "https://localhost:8080/"
        },
        "id": "I0KHQEFqK-DF",
        "outputId": "96a9fbcc-4bac-4e94-a86b-929de7a224d9"
      },
      "execution_count": 21,
      "outputs": [
        {
          "output_type": "stream",
          "name": "stdout",
          "text": [
            "The file sample.txt exists.\n",
            "File content:\n",
            "Hello there!\n",
            "This is a sample text file created using Python.\n",
            "Have a great day!\n",
            "This line has been added later as an update.\n"
          ]
        }
      ]
    },
    {
      "cell_type": "code",
      "source": [
        "#  Q10) Delete a file using Python\n",
        "\n",
        "import os\n",
        "\n",
        "file_path = 'sample.txt'\n",
        "\n",
        "if os.path.exists(file_path):\n",
        "    os.remove(file_path)\n",
        "    print(f\"The file {file_path} has been deleted.\")\n",
        "else:\n",
        "    print(f\"The file {file_path} does not exist.\")\n",
        "\n"
      ],
      "metadata": {
        "colab": {
          "base_uri": "https://localhost:8080/"
        },
        "id": "57VrtPAOLCVq",
        "outputId": "28c62a45-749c-4c43-8c6b-b549f39061f1"
      },
      "execution_count": 22,
      "outputs": [
        {
          "output_type": "stream",
          "name": "stdout",
          "text": [
            "The file sample.txt has been deleted.\n"
          ]
        }
      ]
    }
  ]
}
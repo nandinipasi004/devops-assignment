{
  "nbformat": 4,
  "nbformat_minor": 0,
  "metadata": {
    "colab": {
      "provenance": []
    },
    "kernelspec": {
      "name": "python3",
      "display_name": "Python 3"
    },
    "language_info": {
      "name": "python"
    }
  },
  "cells": [
    {
      "cell_type": "code",
      "execution_count": null,
      "metadata": {
        "id": "7gZsO_W632NT"
      },
      "outputs": [],
      "source": [
        "PROBLEM STATEMENT\n",
        "Q. 1)  Create an instance in the US-East-1 (N. Virginia) region with Linux OS and manage the requirement of web servers of your company using AMI.\n",
        "Solution:  Steps\n",
        "1. Sign in to your AWS console\n",
        "2. Search for EC2 service\n",
        "3. Change the region to US-East-1(N.Virginia)\n",
        "4. Click on launch instance\n",
        "5. Add name to your instance\n",
        "6. Select AMI-Amazon linux OS\n",
        "7. Select instance type: t2.micro\n",
        "8. Create a new key pair for accessing the virtual machine\n",
        "9. Then click on launch instance\n",
        "10. New instance will get launched\n",
        "11. Connect to instance: make the key-pair private\n",
        "12. Open cmd on windows\n",
        "13. Open the directory in which key pair is saved\n",
        "14. Use ssh command to connect with instance\n"
      ]
    },
    {
      "cell_type": "code",
      "source": [
        "Q.2) Replicate the instance in the US-West-2 (Oregon) region\n",
        "Solution: Steps\n",
        "1. Select instance\n",
        "2. Go to action - select image and template - select create image - add image name - image created\n",
        "3. Go to AMI\n",
        "4. Select the AMI name - go to action - select copy AMI - select region: US-West-2(orgeon) - copy AMI created\n",
        "5. Go to the selected region: US-West-2(orgeon) - select AMI name - launch instance from AMI\n",
        "6. Instance replica will get launched in the given region.\n",
        "\n"
      ],
      "metadata": {
        "id": "kU9NPQx85BVW"
      },
      "execution_count": null,
      "outputs": []
    },
    {
      "cell_type": "code",
      "source": [
        "Q.3) Build two EBS volumes and attach them to the instance in the US-East-1 (N. Virginia) region steps\n",
        "Solution: Steps\n",
        "1. In the AWS select the EC2\n",
        "2. Select the volume option present under the EBS\n",
        "3. Select the option create volume\n",
        "4. Create the volume of your choice(size)\n",
        "5. For creating another volume follow the above steps\n",
        "6. Go to the volume and select the newly created volume\n",
        "7. Click the action button and select the attach volume\n",
        "8. Select the instance in the US-East-1(N. Virginia) which you want to attach\n",
        "9. Follow these steps to attach the second volume with the instance in the US-East-1(N. Virginia)\n",
        "10. Thus two EBS volume will get attach to the instance.\n",
        "11. To check : open windows cmd\n",
        "12. Use command: lsblk to see the attached volumes\n"
      ],
      "metadata": {
        "id": "8MAhWihJ5XC0"
      },
      "execution_count": null,
      "outputs": []
    },
    {
      "cell_type": "code",
      "source": [
        "Q.4)  Delete one volume after detaching it and extend the size of the other volume\n",
        "Solution: Steps\n",
        "1. Select the EC2 from the console and click on the instance\n",
        "2. Select the instance to which the  volume is attached\n",
        "3. Go to the storage lab in the instance you selected\n",
        "4. Click on the volume you want to detach\n",
        "5. Click the action button and detach the volume\n",
        "6. After these steps go to the volume and select the volume you detach\n",
        "7. Click on the action button and click on the delete after that your volume will be deleted\n",
        "8. To extend/modify the volume go to the volume section\n",
        "9. Select the volume you want to modify\n",
        "10. Click on the modify button\n",
        "11. Modify the size and click on the modify, your volume size will be modify\n",
        "\n"
      ],
      "metadata": {
        "id": "YZ2RiUJL5uic"
      },
      "execution_count": null,
      "outputs": []
    },
    {
      "cell_type": "code",
      "source": [
        "Q.5)  Take backup of this EBS volume\n",
        "Solution:Steps\n",
        "1. Go to the EC2 dashboard\n",
        "2. Select the instance to which you want to backup\n",
        "3. Go to storage lab and identify the volume and click on it\n",
        "4. Click on the action button and select the create snapshot\n",
        "5. Give some name to the snapshot\n",
        "6. After creating the snapshot go to the snapshot\n",
        "7. In the snapshot verify that your snapshot is created.\n"
      ],
      "metadata": {
        "id": "STgDJHpU6A9H"
      },
      "execution_count": null,
      "outputs": []
    }
  ]
}